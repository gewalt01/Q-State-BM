{
 "cells": [
  {
   "cell_type": "markdown",
   "metadata": {},
   "source": [
    "# Q-State BM"
   ]
  },
  {
   "cell_type": "markdown",
   "metadata": {},
   "source": [
    "多クラスのボルツマンマシンを作るためのメモ書きです.  \n",
    "~~(別名お経.)~~"
   ]
  },
  {
   "cell_type": "markdown",
   "metadata": {},
   "source": [
    "## 概要"
   ]
  },
  {
   "cell_type": "markdown",
   "metadata": {},
   "source": [
    "<img src=\"image/graph.png\" width=\"25\">"
   ]
  },
  {
   "cell_type": "markdown",
   "metadata": {},
   "source": [
    "## 変数の定義"
   ]
  },
  {
   "cell_type": "markdown",
   "metadata": {},
   "source": [
    "確率変数$\\boldsymbol{x}$はX次元の変数として定義.  \n",
    "各要素は$Q$種類の状態$\\{1, 2,...,Q\\}$を持つクラス番号を値とする変数と定義します.  \n",
    "  \n",
    "$\\boldsymbol{x} = \\{x_i \\in\\{ 1,2,...,Q \\} \\mid i=1,2,...,X \\}$"
   ]
  },
  {
   "cell_type": "markdown",
   "metadata": {},
   "source": [
    "## エネルギー関数"
   ]
  },
  {
   "cell_type": "markdown",
   "metadata": {},
   "source": [
    "$\\displaystyle E \\left( \\boldsymbol{x} \\mid \\boldsymbol{J} \\right) = - \\frac{1}{X}\\sum_{(i,j) \\in A} J_{x_i, x_j} \\delta_{x_i, x_j}$"
   ]
  },
  {
   "cell_type": "markdown",
   "metadata": {},
   "source": [
    "エネルギー関数のJは隣接ノード間でどのクラス値を取りやすいかを調整するためのパラメータです.  \n",
    "例えば$J_{1, 2} > 0$であれば片方のノードの値が1であるとき隣のノードの値は2を取りやすくなることを意味します.  \n",
    "逆に$J_{1, 2} < 0$であればこの組み合わせになりにくくなることを表しています.\n",
    "  \n",
    "$\\delta$はクロネッカーのデルタです.  \n",
    "Aはノード間のエッジの集合です.  \n",
    "1/Xは正直あってもなくてもいい気がしなくもないです."
   ]
  },
  {
   "cell_type": "markdown",
   "metadata": {},
   "source": [
    "## 分布の定義"
   ]
  },
  {
   "cell_type": "markdown",
   "metadata": {},
   "source": [
    "Q-State BMはエネルギー関数を用いて  \n",
    "  \n",
    "$P\\left(\\boldsymbol{x} \\mid \\boldsymbol{J} \\right) = \\dfrac{1}{Z\\left(\\boldsymbol{J}\\right)}\\exp \\left( - E \\left( \\boldsymbol{x} \\mid \\boldsymbol{J} \\right) \\right)$\n",
    "  \n",
    "と定義します.  \n",
    "なお, Zは規格化定数です.\n",
    "  \n",
    "$\n",
    "\\begin{align}\n",
    "\\displaystyle Z\\left(\\boldsymbol{J}\\right) &= \\sum_{\\boldsymbol{x}} \\exp \\left( - E \\left( \\boldsymbol{x} \\mid \\boldsymbol{J} \\right) \\right) \\\\\n",
    " &= \\sum_{x_1} \\sum_{x_2} ... \\sum_{x_Q} \\exp \\left( - E \\left( \\boldsymbol{x} \\mid \\boldsymbol{J} \\right) \\right)\n",
    "\\end{align}\n",
    "$"
   ]
  },
  {
   "cell_type": "markdown",
   "metadata": {},
   "source": [
    "## 学習"
   ]
  },
  {
   "cell_type": "markdown",
   "metadata": {},
   "source": [
    "学習に用いるデータ集合を$\\mathcal{D}$と定義します."
   ]
  },
  {
   "cell_type": "markdown",
   "metadata": {},
   "source": [
    "$\\mathcal{D} = \\{ \\boldsymbol{d}^{(1)}, \\boldsymbol{d}^{(2)},...\\boldsymbol{d}^{(N)} \\}$"
   ]
  },
  {
   "cell_type": "markdown",
   "metadata": {},
   "source": [
    "このデータ集合$\\mathcal{D}$を当てはめる尤度関数$\\mathcal{L}$を  \n",
    "  \n",
    "$\\displaystyle \\mathcal{L}\\left(\\boldsymbol{J}\\right) = \\frac{1}{N}\\prod_{n=1}^N P\\left(\\boldsymbol{x}=\\boldsymbol{d}^{(n)} \\mid \\boldsymbol{J}\\right)$\n",
    "  \n",
    "と定義します.  \n",
    "ただ，計算が楽なので尤度関数に対数をとってつけた対数尤度関数  \n",
    "  \n",
    "$\\displaystyle \\ln\\mathcal{L}\\left(\\boldsymbol{J}\\right) = \\frac{1}{N}\\sum_{n=1}^N \\ln P\\left(\\boldsymbol{x}=\\boldsymbol{d}^{(n)} \\mid \\boldsymbol{J}\\right)$\n",
    "  \n",
    "を使いましょう．"
   ]
  },
  {
   "cell_type": "markdown",
   "metadata": {},
   "source": [
    "対数尤度関数の勾配を求めるために書くパラメータで微分します."
   ]
  },
  {
   "cell_type": "markdown",
   "metadata": {},
   "source": [
    "$\\begin{align}\n",
    "\\displaystyle \\dfrac{\\partial \\ln \\mathcal{L}\\left(\\boldsymbol{J} \\right) }{\\partial J_{k, l}}  &= \\dfrac{1}{XN} \\sum_{n=1}^N \\sum_{(i,j)\\in A} \\delta_{d_i^{(n)}, d_j^{(n)}} - \\sum_{\\boldsymbol{x}} \\dfrac{1}{X} \\sum_{(i, j) \\in A}\\delta_{x_i, x_j}P\\left(\\boldsymbol{x} \\mid \\boldsymbol{J}\\right) \\\\\n",
    " &= \\left\\langle \\dfrac{1}{X}  \\sum_{(i,j)\\in A} \\delta_{x_i, x_j} \\right\\rangle _\\mathrm{DATA} - \\left\\langle \\dfrac{1}{X}  \\sum_{(i,j)\\in A} \\delta_{x_i, x_j} \\right\\rangle _\\mathrm{BM}\n",
    "\\end{align}$ "
   ]
  },
  {
   "cell_type": "markdown",
   "metadata": {},
   "source": [
    "### ギブスサンプリング"
   ]
  },
  {
   "cell_type": "markdown",
   "metadata": {},
   "source": [
    "あるひとつの変数に着目して, 他の変数を全部固定します.  \n",
    "  \n",
    "$\n",
    "\\begin{align}\n",
    "P\\left( x_i \\mid \\boldsymbol{x_{-i}} \\right) &= P\\left( x_i \\mid \\boldsymbol{x_{\\partial(i)}} \\right) \\\\\n",
    " &= \\dfrac{\\exp \\left(\\displaystyle \\dfrac{1}{X} \\sum_{k \\in \\partial(i)} J_{x_i, x_k} \\delta_{x_i, x_k} \\right)}{\\displaystyle \\sum_{x_i}\\exp \\left(\\displaystyle \\dfrac{1}{X} \\sum_{k \\in \\partial(i)} J_{x_i, x_k} \\delta_{x_i, x_k} \\right)} \\\\\n",
    "  &= \\dfrac{\\exp \\left(\\displaystyle \\dfrac{1}{X} \\sum_{k \\in \\partial(i)} J_{x_i, x_k} \\delta_{x_i, x_k} \\right)}{\\displaystyle \\sum_{q=1}^Q\\exp \\left(\\displaystyle \\dfrac{1}{X} \\sum_{k \\in \\partial(i)} J_{q, x_k} \\delta_{q, x_k} \\right)}\n",
    "\\end{align}\n",
    "$  \n",
    "  \n",
    "※補足  \n",
    "$\\boldsymbol{x_{-i}}$は$x_i$以外の全ての変数を表しています.  \n",
    "$\\boldsymbol{x_{\\partial(i)}}$は$x_i$と隣接した全ての変数を表しています  \n",
    "$\\partial(i)$はi番目のノードと隣接した全てのノード番号を表しています."
   ]
  },
  {
   "cell_type": "code",
   "execution_count": null,
   "metadata": {},
   "outputs": [],
   "source": []
  }
 ],
 "metadata": {
  "kernelspec": {
   "display_name": "Python 3",
   "language": "python",
   "name": "python3"
  },
  "language_info": {
   "codemirror_mode": {
    "name": "ipython",
    "version": 3
   },
   "file_extension": ".py",
   "mimetype": "text/x-python",
   "name": "python",
   "nbconvert_exporter": "python",
   "pygments_lexer": "ipython3",
   "version": "3.6.5"
  }
 },
 "nbformat": 4,
 "nbformat_minor": 2
}
